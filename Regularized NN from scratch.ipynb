{
  "cells": [
    {
      "cell_type": "code",
      "execution_count": 1,
      "metadata": {
        "id": "DGO0EMfpcmY1"
      },
      "outputs": [],
      "source": [
        "from sklearn.model_selection import train_test_split\n",
        "import tensorflow as tf\n",
        "import numpy as np\n",
        "import math\n",
        "from matplotlib import pyplot as plt"
      ]
    },
    {
      "cell_type": "markdown",
      "metadata": {
        "id": "LZZDdVnMayrs"
      },
      "source": [
        "#Loading Mnist dataset"
      ]
    },
    {
      "cell_type": "code",
      "execution_count": 2,
      "metadata": {
        "colab": {
          "base_uri": "https://localhost:8080/"
        },
        "id": "Na87Tu3Ddt9S",
        "outputId": "8aa8d456-4de6-4854-a402-0e1a5560ad14"
      },
      "outputs": [
        {
          "output_type": "stream",
          "name": "stdout",
          "text": [
            "Downloading data from https://storage.googleapis.com/tensorflow/tf-keras-datasets/mnist.npz\n",
            "\u001b[1m11490434/11490434\u001b[0m \u001b[32m━━━━━━━━━━━━━━━━━━━━\u001b[0m\u001b[37m\u001b[0m \u001b[1m0s\u001b[0m 0us/step\n"
          ]
        }
      ],
      "source": [
        "(x_train, y_train), (x_test, y_test) = tf.keras.datasets.mnist.load_data()"
      ]
    },
    {
      "cell_type": "code",
      "execution_count": 3,
      "metadata": {
        "colab": {
          "base_uri": "https://localhost:8080/"
        },
        "id": "d9D7-T6fdzdy",
        "outputId": "fc99029b-7d85-4e4b-85e2-25fc76c96418"
      },
      "outputs": [
        {
          "output_type": "stream",
          "name": "stdout",
          "text": [
            "(60000, 28, 28) (10000, 28, 28) \n",
            "\n",
            "(60000,) (10000,) \n",
            "\n"
          ]
        }
      ],
      "source": [
        "print(x_train.shape,x_test.shape,\"\\n\")\n",
        "print(y_train.shape,y_test.shape,\"\\n\")"
      ]
    },
    {
      "cell_type": "markdown",
      "metadata": {
        "id": "Ja-dmBFKXe0O"
      },
      "source": [
        "#Extracting features by doing dimensionality reduction for Training and Testing set and get the centroid of each sub-image, after splitting the image into 4X4 sub-images"
      ]
    },
    {
      "cell_type": "code",
      "execution_count": 26,
      "metadata": {
        "id": "JOpdEC6Fd250"
      },
      "outputs": [],
      "source": [
        "def feature_extraction(data):\n",
        "    extracted_features = np.zeros([data.shape[0], 4*4*2]) #The image is splitted into (7*7) 16 sub-images,\n",
        "    x, y = data.shape[1:]                                 #with x, y coordinates for each sub-image\n",
        "    x = (x // 4)\n",
        "    y = (y // 4)\n",
        "\n",
        "    for t in range(data.shape[0]):\n",
        "        image = data[t]\n",
        "\n",
        "        for i in range(16):\n",
        "            start_row = (i//4)*x\n",
        "            start_col = (i%4)*y\n",
        "\n",
        "            img = image[start_row:start_row+x, start_col:start_col+y]\n",
        "            x_indices, y_indices = np.indices(img.shape)\n",
        "            total_img_values = img.sum().sum()\n",
        "\n",
        "            if total_img_values == 0:\n",
        "                x_index, y_index = img.shape\n",
        "                x_index /= int(x_index)\n",
        "                y_index /= int(y_index)\n",
        "\n",
        "            else:\n",
        "                x_centroid = np.multiply(x_indices, img).sum().sum() / total_img_values\n",
        "                y_centroid = np.multiply(y_indices, img).sum().sum() / total_img_values\n",
        "\n",
        "                x_index = int(x_centroid) + start_row\n",
        "                y_index = int(y_centroid) + start_col\n",
        "\n",
        "            extracted_features[t,i] = x_index\n",
        "            extracted_features[t,i+16] = y_index\n",
        "\n",
        "    return extracted_features"
      ]
    },
    {
      "cell_type": "code",
      "source": [
        "array_train = feature_extraction(x_train)\n",
        "array_test = feature_extraction(x_test)"
      ],
      "metadata": {
        "id": "GbzBAMpCVEQy"
      },
      "execution_count": 27,
      "outputs": []
    },
    {
      "cell_type": "markdown",
      "source": [
        "#Plotting an image with its centroids scattered with red dots on each 7*7 sub-image"
      ],
      "metadata": {
        "id": "us7-jjvsWsYi"
      }
    },
    {
      "cell_type": "code",
      "source": [
        "img = 0\n",
        "centroid_coordinates = array_train[img].reshape(2, 16).T\n",
        "fig, ax = plt.subplots(4, 4, figsize=(4, 4))\n",
        "fig.subplots_adjust(wspace=0.1, hspace=0.1)\n",
        "\n",
        "for i in range(4):\n",
        "    for j in range(4):\n",
        "        idx = i * 4 + j\n",
        "        start_row, start_col = i * 7, j * 7\n",
        "        sub_img = x_train[img][start_row:start_row+7, start_col:start_col+7]\n",
        "\n",
        "        x_global, y_global = centroid_coordinates[idx]\n",
        "\n",
        "        x_local = x_global % 7\n",
        "        y_local = y_global % 7\n",
        "\n",
        "        ax[i, j].imshow(sub_img, cmap='gray', interpolation='nearest')\n",
        "        ax[i, j].scatter(y_local, x_local, c='red', s=20)\n",
        "        ax[i, j].axis('off')\n",
        "\n",
        "plt.show()"
      ],
      "metadata": {
        "colab": {
          "base_uri": "https://localhost:8080/",
          "height": 345
        },
        "id": "cb9nVkMWNnu0",
        "outputId": "485ad710-97b2-430d-a336-3b38c0a607eb"
      },
      "execution_count": 32,
      "outputs": [
        {
          "output_type": "display_data",
          "data": {
            "text/plain": [
              "<Figure size 400x400 with 16 Axes>"
            ],
            "image/png": "[encoded data removed]"
          },
          "metadata": {}
        }
      ]
    },
    {
      "cell_type": "markdown",
      "metadata": {
        "id": "--kJBNC2gcaL"
      },
      "source": [
        "#Normalize the features"
      ]
    },
    {
      "cell_type": "code",
      "execution_count": 33,
      "metadata": {
        "id": "TOUhV4dEgbv_"
      },
      "outputs": [],
      "source": [
        "for i in range (array_train.shape[1]):\n",
        "    array_train[:,i] = (array_train[:,i] - np.mean(array_train[:,i])) / np.std(array_train[:,i])\n",
        "    array_test[:,i] = (array_test[:,i] - np.mean(array_test[:,i])) / np.std(array_test[:,i])"
      ]
    },
    {
      "cell_type": "markdown",
      "metadata": {
        "id": "OjKKqzvPUtBJ"
      },
      "source": [
        "#Creating validation set"
      ]
    },
    {
      "cell_type": "code",
      "execution_count": 34,
      "metadata": {
        "id": "ikl3i1MXUXS6"
      },
      "outputs": [],
      "source": [
        "array_val = array_train[:6000,:]\n",
        "array_train = array_train[6000:,:]\n",
        "y_val = y_train[:6000]\n",
        "y_train = y_train[6000:]"
      ]
    },
    {
      "cell_type": "code",
      "execution_count": 35,
      "metadata": {
        "colab": {
          "base_uri": "https://localhost:8080/"
        },
        "id": "9tiWm1suU21z",
        "outputId": "2f01462e-c0df-4c7a-fa93-b1ed64345882"
      },
      "outputs": [
        {
          "output_type": "execute_result",
          "data": {
            "text/plain": [
              "((6000, 32), (6000,), (54000, 32), (54000,))"
            ]
          },
          "metadata": {},
          "execution_count": 35
        }
      ],
      "source": [
        "array_val.shape, y_val.shape, array_train.shape, y_train.shape"
      ]
    },
    {
      "cell_type": "markdown",
      "metadata": {
        "id": "OYWdeDbrbku6"
      },
      "source": [
        "#implementing sigmoid activation function"
      ]
    },
    {
      "cell_type": "code",
      "execution_count": 36,
      "metadata": {
        "id": "4eTXyu1AhyIH"
      },
      "outputs": [],
      "source": [
        "def sigmoid(array):\n",
        "    return 1/(1+np.exp(-array.copy(),dtype = np.float128))"
      ]
    },
    {
      "cell_type": "markdown",
      "metadata": {
        "id": "NGlqgHSffU1i"
      },
      "source": [
        "#Defining Softmax activation function"
      ]
    },
    {
      "cell_type": "code",
      "execution_count": 37,
      "metadata": {
        "id": "B2gfekGzXpfs"
      },
      "outputs": [],
      "source": [
        "def softmax(array):\n",
        "    post_values = array.copy()\n",
        "    post_values = np.exp(post_values, dtype = np.float128)\n",
        "    sum_of_output_values = np.sum(post_values.copy(),axis=1)\n",
        "    for i in range(post_values.shape[1]):\n",
        "        post_values[:,i] /= sum_of_output_values\n",
        "    return post_values"
      ]
    },
    {
      "cell_type": "markdown",
      "metadata": {
        "id": "Dwh9AhCYfJGh"
      },
      "source": [
        "#Defining function convert the integer number to a one-hot dimension with respect to the number of classes in the set"
      ]
    },
    {
      "cell_type": "code",
      "execution_count": 38,
      "metadata": {
        "id": "jQSXxp5Nh3oF"
      },
      "outputs": [],
      "source": [
        "def dimensions(y_train):\n",
        "    real_y = np.zeros(shape=(1,10))\n",
        "    real_y[:,y_train] = 1\n",
        "    return real_y"
      ]
    },
    {
      "cell_type": "markdown",
      "metadata": {
        "id": "McdTuWxne7nk"
      },
      "source": [
        "#Defining function computes the gradient **rate of change** of the loss values with respect to the weights"
      ]
    },
    {
      "cell_type": "code",
      "execution_count": 39,
      "metadata": {
        "id": "hYpWvACih8N-"
      },
      "outputs": [],
      "source": [
        "def sigmoid_gradient(array):\n",
        "    return np.multiply(array,1-array)"
      ]
    },
    {
      "cell_type": "markdown",
      "metadata": {
        "id": "GjHE4BH4ezxg"
      },
      "source": [
        "#Defining the loss function **Cross entropy** for classification with **L2-Regularization**"
      ]
    },
    {
      "cell_type": "code",
      "execution_count": 40,
      "metadata": {
        "id": "bZs8mC8eKtWA"
      },
      "outputs": [],
      "source": [
        "def loss_function(x,y,parameters, reg_lambda):\n",
        "  h_theta = x\n",
        "  real_y = dimensions_10(y)\n",
        "  m = h_theta.shape[0]\n",
        "\n",
        "  for i in range(parameters.shape[0]-1):\n",
        "    h_theta = sigmoid(np.dot(h_theta,parameters[i].parameter_matrix))\n",
        "\n",
        "  h_theta = softmax(np.dot(h_theta,parameters[parameters.shape[0]-1].parameter_matrix))\n",
        "  cost = np.multiply(real_y.copy(),np.log(h_theta)) + np.multiply(1-real_y.copy(),np.log(1-h_theta))\n",
        "  regularized_cost = 0\n",
        "  for i in range(parameters.shape[0]):\n",
        "    regularized_cost += np.sum((np.square(np.array(parameters[i].parameter_matrix))))\n",
        "  regularized_cost *= (reg_lambda/(2*m))\n",
        "  cost = np.sum(cost)\n",
        "  cost /= m\n",
        "  cost = -cost\n",
        "  cost += regularized_cost\n",
        "  print(\"cost is \", end=\"\")\n",
        "  return cost"
      ]
    },
    {
      "cell_type": "markdown",
      "metadata": {
        "id": "fZUPUbYjedKA"
      },
      "source": [
        "#Defining the matrix class which is desired for initalize the weight matrix"
      ]
    },
    {
      "cell_type": "code",
      "execution_count": 41,
      "metadata": {
        "id": "SrB3ijS2h-YQ"
      },
      "outputs": [],
      "source": [
        "class matrix:\n",
        "    def __init__(self, current_layer, next_layer):\n",
        "        self.current_layer = current_layer\n",
        "        self.next_layer = next_layer\n",
        "        self.parameter_matrix = np.random.normal(size=(self.current_layer,self.next_layer))\n",
        "\n",
        "    def get_parameters(self):\n",
        "        return self.parameter_matrix"
      ]
    },
    {
      "cell_type": "markdown",
      "metadata": {
        "id": "gUfUveereOm6"
      },
      "source": [
        "#Defining the Neural Network class to build the desired architecture"
      ]
    },
    {
      "cell_type": "code",
      "execution_count": 42,
      "metadata": {
        "id": "yFong6SpiASa"
      },
      "outputs": [],
      "source": [
        "class Neural_Network:\n",
        "    def __init__(self, layers, neurons):\n",
        "        self.layers = layers\n",
        "        self.neurons = neurons\n",
        "        self.parameter_matrices = np.empty(shape=(self.layers - 1,),dtype=matrix)\n",
        "        self.outputs = np.zeros(shape=(self.layers,),dtype=matrix)\n",
        "\n",
        "    def preparing(self, train):\n",
        "        data = train.copy()\n",
        "        self.parameter_matrices[0] = matrix(data.shape[1], self.neurons)\n",
        "        self.parameter_matrices[self.layers - 2] = matrix(self.neurons, 10)\n",
        "\n",
        "        for i in range(1,self.layers - 2):\n",
        "            self.parameter_matrices[i] = matrix(self.neurons, self.neurons)\n",
        "\n",
        "        return self.parameter_matrices\n",
        "\n",
        "    def feed_forward(self,train, parameters):\n",
        "        data = train.copy()\n",
        "        self.outputs[0] = matrix(data.shape[0], data.shape[1])\n",
        "        self.outputs[0].parameter_matrix = data.copy()\n",
        "\n",
        "        for i in range(1,self.layers-1):\n",
        "            data = sigmoid(np.dot(data,parameters[i-1].parameter_matrix))\n",
        "            self.outputs[i] = matrix(data.shape[0], data.shape[1])\n",
        "            self.outputs[i].parameter_matrix = data.copy()\n",
        "\n",
        "        data = softmax(np.dot(data,parameters[self.layers - 2].parameter_matrix))\n",
        "        self.outputs[self.layers - 1] = matrix(data.shape[0], data.shape[1])\n",
        "        self.outputs[self.layers - 1].parameter_matrix = data.copy()\n",
        "        return parameters.copy(), self.outputs\n",
        "\n",
        "    def back_propagation(self, outputs, parameters, target, learning_rate, reg_lambda):\n",
        "        actual_y = dimensions(target)\n",
        "        thetas = parameters.copy()\n",
        "        parameter = parameters.copy()\n",
        "        data = outputs.copy()\n",
        "\n",
        "        ########################################################\n",
        "        # for output layer only\n",
        "        error = np.multiply((actual_y - data[-1].parameter_matrix), sigmoid_gradient(data[-1].parameter_matrix))\n",
        "\n",
        "        thetas[-1].parameter_matrix += np.dot(np.transpose(data[-2].parameter_matrix), error) * learning_rate\n",
        "        # for output layer only\n",
        "        #########################################################\n",
        "\n",
        "        #########################################################\n",
        "        # for hidden layers...\n",
        "\n",
        "        for i in range(data.shape[0] - 2, 0 , -1):\n",
        "              error = np.dot(error,np.transpose(parameter[i].parameter_matrix))\n",
        "              error = np.multiply(error, sigmoid_gradient(data[i].parameter_matrix))\n",
        "              thetas[i-1].parameter_matrix += (np.dot(np.transpose(data[i-1].parameter_matrix), error) + (reg_lambda/data.shape[0])*data[i-1].parameter_matrix) * learning_rate\n",
        "\n",
        "        return thetas.copy()"
      ]
    },
    {
      "cell_type": "markdown",
      "metadata": {
        "id": "TJOwCWUTeBYK"
      },
      "source": [
        "#Defining a function convert the target to on-hot dimension"
      ]
    },
    {
      "cell_type": "code",
      "execution_count": 43,
      "metadata": {
        "id": "Yhglkh-CI5ZZ"
      },
      "outputs": [],
      "source": [
        "def dimensions_10(y_train):\n",
        "    real_y = np.zeros(shape=(y_train.shape[0],np.unique(y_train).shape[0]))\n",
        "    for i in range(0,y_train.shape[0]):\n",
        "        real_y[i,y_train[i]] = 1\n",
        "    return real_y"
      ]
    },
    {
      "cell_type": "markdown",
      "metadata": {
        "id": "J7vBH1dld9QP"
      },
      "source": [
        "#Defining the accuracy test function"
      ]
    },
    {
      "cell_type": "code",
      "execution_count": 44,
      "metadata": {
        "id": "MWXLqbWyn1Td"
      },
      "outputs": [],
      "source": [
        "def accuracy(data,target,parameters):\n",
        "    real_y = dimensions_10(target.copy())\n",
        "    results = data.copy()\n",
        "    thetas = parameters.copy()\n",
        "\n",
        "    for i in range(thetas.shape[0]-1):\n",
        "        results = sigmoid(np.dot(results, thetas[i].parameter_matrix))\n",
        "\n",
        "    results = softmax(np.dot(results, thetas[thetas.shape[0]-1].parameter_matrix))\n",
        "    hypothesis = np.zeros([results.shape[0],results.shape[1]])\n",
        "    count = 0\n",
        "\n",
        "    for m in range(0,results.shape[0]):\n",
        "        index_ = 0\n",
        "        biggest = results[m,index_]\n",
        "\n",
        "        for n in range(1,results.shape[1]):\n",
        "            if biggest < results[m,n]:\n",
        "                biggest = results[m,n]\n",
        "                index_ = n\n",
        "\n",
        "        hypothesis[m,index_] = 1\n",
        "\n",
        "    for l in range(0,real_y.shape[0]):\n",
        "        for v in range(0,real_y.shape[1]):\n",
        "            if real_y[l,v] == 1 and hypothesis[l,v] == 1:\n",
        "                count = count + 1\n",
        "\n",
        "\n",
        "    return(count/results.shape[0])*100"
      ]
    },
    {
      "cell_type": "markdown",
      "metadata": {
        "id": "8cVEkBQ4dyrq"
      },
      "source": [
        "#initalize the Neural Network architecture"
      ]
    },
    {
      "cell_type": "code",
      "execution_count": 45,
      "metadata": {
        "id": "d6-ao4Mgudzz"
      },
      "outputs": [],
      "source": [
        "N = Neural_Network(7,32)"
      ]
    },
    {
      "cell_type": "markdown",
      "metadata": {
        "id": "ynPKqVE0dstv"
      },
      "source": [
        "#Defining fit Function for training"
      ]
    },
    {
      "cell_type": "code",
      "execution_count": 46,
      "metadata": {
        "id": "-64wPwx7lSHC"
      },
      "outputs": [],
      "source": [
        "def fit(array_train, iterations, learning_rate, reg_lambda):\n",
        "    thetas = N.preparing(array_train.copy())\n",
        "    for iterations in range(0,iterations):\n",
        "        for i in range(0,array_train.shape[0]):\n",
        "            thetas, outputs = N.feed_forward(array_train[i:i+1,:],thetas)\n",
        "            thetas = N.back_propagation(outputs,thetas,y_train[i],learning_rate,reg_lambda)\n",
        "\n",
        "        print(\"epoch \",iterations+1,\": \\nLoss function on Training set\",loss_function(array_train,y_train,thetas, reg_lambda))\n",
        "        print(\"epoch \",iterations+1,\": \\nLoss function on Validation set\",loss_function(array_val,y_val,thetas, reg_lambda))\n",
        "        print(\"=========================================================\")\n",
        "    return thetas"
      ]
    },
    {
      "cell_type": "code",
      "execution_count": 47,
      "metadata": {
        "colab": {
          "base_uri": "https://localhost:8080/"
        },
        "id": "AAqGhPGn0jHZ",
        "outputId": "08774366-70a1-4d6b-e40d-db8fdaf77144"
      },
      "outputs": [
        {
          "output_type": "stream",
          "name": "stdout",
          "text": [
            "cost is epoch  1 : \n",
            "Loss function on Training set 2.1640363710679565911\n",
            "cost is epoch  1 : \n",
            "Loss function on Validation set 2.124678950230881526\n",
            "=========================================================\n",
            "cost is epoch  2 : \n",
            "Loss function on Training set 1.675276627538930411\n",
            "cost is epoch  2 : \n",
            "Loss function on Validation set 1.6350911430087318297\n",
            "=========================================================\n",
            "cost is epoch  3 : \n",
            "Loss function on Training set 1.4460326433131455233\n",
            "cost is epoch  3 : \n",
            "Loss function on Validation set 1.4127215106169118634\n",
            "=========================================================\n",
            "cost is epoch  4 : \n",
            "Loss function on Training set 1.3074397272656545762\n",
            "cost is epoch  4 : \n",
            "Loss function on Validation set 1.2828998728697578095\n",
            "=========================================================\n",
            "cost is epoch  5 : \n",
            "Loss function on Training set 1.2082262423855727476\n",
            "cost is epoch  5 : \n",
            "Loss function on Validation set 1.1904294760914933549\n",
            "=========================================================\n",
            "cost is epoch  6 : \n",
            "Loss function on Training set 1.1245973876466538142\n",
            "cost is epoch  6 : \n",
            "Loss function on Validation set 1.1109140679170505181\n",
            "=========================================================\n",
            "cost is epoch  7 : \n",
            "Loss function on Training set 1.0593515077856785409\n",
            "cost is epoch  7 : \n",
            "Loss function on Validation set 1.0477897518025685982\n",
            "=========================================================\n",
            "cost is epoch  8 : \n",
            "Loss function on Training set 1.0086155449346997304\n",
            "cost is epoch  8 : \n",
            "Loss function on Validation set 0.999658127309016283\n",
            "=========================================================\n",
            "cost is epoch  9 : \n",
            "Loss function on Training set 0.9673539529617879362\n",
            "cost is epoch  9 : \n",
            "Loss function on Validation set 0.96171709591380622514\n",
            "=========================================================\n",
            "cost is epoch  10 : \n",
            "Loss function on Training set 0.93336756184260586034\n",
            "cost is epoch  10 : \n",
            "Loss function on Validation set 0.9315606895222545584\n",
            "=========================================================\n",
            "cost is epoch  11 : \n",
            "Loss function on Training set 0.90626566063622125024\n",
            "cost is epoch  11 : \n",
            "Loss function on Validation set 0.9082391944755758173\n",
            "=========================================================\n",
            "cost is epoch  12 : \n",
            "Loss function on Training set 0.88443061624330424075\n",
            "cost is epoch  12 : \n",
            "Loss function on Validation set 0.89001056965763405434\n",
            "=========================================================\n",
            "cost is epoch  13 : \n",
            "Loss function on Training set 0.86601882009873188794\n",
            "cost is epoch  13 : \n",
            "Loss function on Validation set 0.8750755933211836072\n",
            "=========================================================\n",
            "cost is epoch  14 : \n",
            "Loss function on Training set 0.84962148207476424685\n",
            "cost is epoch  14 : \n",
            "Loss function on Validation set 0.86204855559815416106\n",
            "=========================================================\n",
            "cost is epoch  15 : \n",
            "Loss function on Training set 0.8342699832798236016\n",
            "cost is epoch  15 : \n",
            "Loss function on Validation set 0.8498233896500418488\n",
            "=========================================================\n",
            "cost is epoch  16 : \n",
            "Loss function on Training set 0.8195981181754223638\n",
            "cost is epoch  16 : \n",
            "Loss function on Validation set 0.8379937679871819727\n",
            "=========================================================\n",
            "cost is epoch  17 : \n",
            "Loss function on Training set 0.80554104579550572416\n",
            "cost is epoch  17 : \n",
            "Loss function on Validation set 0.82651008968123457633\n",
            "=========================================================\n",
            "cost is epoch  18 : \n",
            "Loss function on Training set 0.7921424994690548497\n",
            "cost is epoch  18 : \n",
            "Loss function on Validation set 0.81528485240412483997\n",
            "=========================================================\n",
            "cost is epoch  19 : \n",
            "Loss function on Training set 0.779430603122964477\n",
            "cost is epoch  19 : \n",
            "Loss function on Validation set 0.8044331735246746605\n",
            "=========================================================\n",
            "cost is epoch  20 : \n",
            "Loss function on Training set 0.7674564629535099537\n",
            "cost is epoch  20 : \n",
            "Loss function on Validation set 0.7942633554746508528\n",
            "=========================================================\n"
          ]
        }
      ],
      "source": [
        "thetas = fit(array_train, 20, 0.01, 1e-5)"
      ]
    },
    {
      "cell_type": "markdown",
      "metadata": {
        "id": "F1fMXe3rfvx2"
      },
      "source": [
        "#printing the accuracy after training on the training set on **Training set**"
      ]
    },
    {
      "cell_type": "code",
      "execution_count": 48,
      "metadata": {
        "colab": {
          "base_uri": "https://localhost:8080/"
        },
        "id": "CvNG-fhwoIqA",
        "outputId": "2756b759-6b59-4091-e66f-fe8cc420f9c1"
      },
      "outputs": [
        {
          "output_type": "stream",
          "name": "stdout",
          "text": [
            "accuracy of training set is:  86.4037037037037\n"
          ]
        }
      ],
      "source": [
        "print(\"accuracy of training set is: \", accuracy(array_train,y_train,thetas))"
      ]
    },
    {
      "cell_type": "markdown",
      "metadata": {
        "id": "d7OTIb_1qGx_"
      },
      "source": [
        "#printing the accuracy after training on the training set on **Test set**"
      ]
    },
    {
      "cell_type": "code",
      "execution_count": 49,
      "metadata": {
        "colab": {
          "base_uri": "https://localhost:8080/"
        },
        "id": "XNL7PBbWJc7U",
        "outputId": "9cd0cc8c-087d-4fa5-cda6-9eb1f1692132"
      },
      "outputs": [
        {
          "output_type": "stream",
          "name": "stdout",
          "text": [
            "accuracy on test set:  86.02\n"
          ]
        }
      ],
      "source": [
        "print(\"accuracy on test set: \", accuracy(array_test,y_test,thetas))"
      ]
    },
    {
      "cell_type": "markdown",
      "metadata": {
        "id": "o-CSIEgFkcUO"
      },
      "source": [
        "#defining a function preparing for prediction"
      ]
    },
    {
      "cell_type": "code",
      "execution_count": 50,
      "metadata": {
        "id": "_F-obhLokbRW"
      },
      "outputs": [],
      "source": [
        "def preparing(result,parameters):\n",
        "    results = result.copy()\n",
        "    thetas = parameters.copy()\n",
        "    for i in range(thetas.shape[0]-1):\n",
        "        results = sigmoid(np.dot(results, thetas[i].parameter_matrix))\n",
        "\n",
        "    results = softmax(np.dot(results, thetas[thetas.shape[0]-1].parameter_matrix))\n",
        "\n",
        "    post_result = np.zeros(shape=(results.shape[0],))\n",
        "    for i in range(results.shape[0]):\n",
        "        index = np.argmax(results[i,:])\n",
        "        post_result[i]=index\n",
        "    return post_result"
      ]
    },
    {
      "cell_type": "markdown",
      "metadata": {
        "id": "cXd1ce02gQGF"
      },
      "source": [
        "#See the Score"
      ]
    },
    {
      "cell_type": "code",
      "execution_count": 51,
      "metadata": {
        "id": "zOg6VPPBgQQC"
      },
      "outputs": [],
      "source": [
        "from sklearn.metrics import accuracy_score, f1_score, precision_score, recall_score, confusion_matrix"
      ]
    },
    {
      "cell_type": "code",
      "execution_count": 52,
      "metadata": {
        "id": "Qt-NcLUeiP9A"
      },
      "outputs": [],
      "source": [
        "results = preparing(array_test,thetas)"
      ]
    },
    {
      "cell_type": "markdown",
      "metadata": {
        "id": "9v6H4071uRf0"
      },
      "source": [
        "#Confusion matrix"
      ]
    },
    {
      "cell_type": "code",
      "execution_count": 53,
      "metadata": {
        "colab": {
          "base_uri": "https://localhost:8080/"
        },
        "id": "hy_YvN4rhznV",
        "outputId": "889bdc3f-f6a0-465e-8eb1-8c103464197f"
      },
      "outputs": [
        {
          "output_type": "execute_result",
          "data": {
            "text/plain": [
              "array([[ 910,    0,    5,   14,    2,   21,   16,    0,   10,    2],\n",
              "       [   0, 1106,    4,    7,    2,    3,    7,    1,    4,    1],\n",
              "       [  15,   10,  858,   46,   13,    4,   14,   35,   35,    2],\n",
              "       [   9,    7,   18,  834,    1,   65,    6,   23,   37,   10],\n",
              "       [   2,    0,    5,    4,  877,    4,   10,    4,   14,   62],\n",
              "       [  10,    5,    7,   76,    6,  677,   44,   12,   38,   17],\n",
              "       [  10,    4,    8,    2,   10,   31,  884,    2,    7,    0],\n",
              "       [   1,   13,   16,    8,    9,    4,    2,  869,   11,   95],\n",
              "       [   8,   16,    9,   52,   21,   48,   37,   15,  722,   46],\n",
              "       [   6,    5,    7,   14,   58,   17,    0,   25,   12,  865]])"
            ]
          },
          "metadata": {},
          "execution_count": 53
        }
      ],
      "source": [
        "confusion_matrix(y_test,results)"
      ]
    },
    {
      "cell_type": "markdown",
      "metadata": {
        "id": "YkIboPhNuUZK"
      },
      "source": [
        "#The accuracy score"
      ]
    },
    {
      "cell_type": "code",
      "execution_count": 54,
      "metadata": {
        "colab": {
          "base_uri": "https://localhost:8080/"
        },
        "id": "nAQqya3XjXEo",
        "outputId": "e0dc92be-4030-46c3-ea29-ac63b49d2543"
      },
      "outputs": [
        {
          "output_type": "execute_result",
          "data": {
            "text/plain": [
              "0.8602"
            ]
          },
          "metadata": {},
          "execution_count": 54
        }
      ],
      "source": [
        "accuracy_score(y_test,results)"
      ]
    },
    {
      "cell_type": "markdown",
      "metadata": {
        "id": "YAjzV6rIuZpr"
      },
      "source": [
        "#F1 score"
      ]
    },
    {
      "cell_type": "code",
      "execution_count": 55,
      "metadata": {
        "colab": {
          "base_uri": "https://localhost:8080/"
        },
        "id": "8sDh0GNwn2D2",
        "outputId": "fe42f171-ab22-47a6-b685-4f4ae70f03de"
      },
      "outputs": [
        {
          "output_type": "execute_result",
          "data": {
            "text/plain": [
              "0.8602"
            ]
          },
          "metadata": {},
          "execution_count": 55
        }
      ],
      "source": [
        "f1_score(y_test,results,average='micro')"
      ]
    },
    {
      "cell_type": "markdown",
      "metadata": {
        "id": "YkN_E6Xkuf8t"
      },
      "source": [
        "#Precision score"
      ]
    },
    {
      "cell_type": "code",
      "execution_count": 56,
      "metadata": {
        "colab": {
          "base_uri": "https://localhost:8080/"
        },
        "id": "_L8PiN8LuiPy",
        "outputId": "8c64e452-e5ac-4c4f-a85a-7a89217cac99"
      },
      "outputs": [
        {
          "output_type": "execute_result",
          "data": {
            "text/plain": [
              "0.8602"
            ]
          },
          "metadata": {},
          "execution_count": 56
        }
      ],
      "source": [
        "precision_score(y_test,results,average='micro')"
      ]
    },
    {
      "cell_type": "markdown",
      "metadata": {
        "id": "jDR2ZyFfup7c"
      },
      "source": [
        "#Recall score"
      ]
    },
    {
      "cell_type": "code",
      "execution_count": 57,
      "metadata": {
        "colab": {
          "base_uri": "https://localhost:8080/"
        },
        "id": "znr_G8cSuqFW",
        "outputId": "86cdd538-b02a-44f3-b14b-58f9ce060aad"
      },
      "outputs": [
        {
          "output_type": "execute_result",
          "data": {
            "text/plain": [
              "0.8602"
            ]
          },
          "metadata": {},
          "execution_count": 57
        }
      ],
      "source": [
        "recall_score(y_test,results,average='micro')"
      ]
    }
  ],
  "metadata": {
    "colab": {
      "provenance": []
    },
    "kernelspec": {
      "display_name": "Python 3",
      "name": "python3"
    },
    "language_info": {
      "codemirror_mode": {
        "name": "ipython",
        "version": 3
      },
      "file_extension": ".py",
      "mimetype": "text/x-python",
      "name": "python",
      "nbconvert_exporter": "python",
      "pygments_lexer": "ipython3",
      "version": "3.9.6"
    }
  },
  "nbformat": 4,
  "nbformat_minor": 0
}